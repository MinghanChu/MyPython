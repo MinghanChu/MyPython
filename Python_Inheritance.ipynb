{
  "nbformat": 4,
  "nbformat_minor": 0,
  "metadata": {
    "colab": {
      "provenance": [],
      "mount_file_id": "1PvzaFyISI_XN8_PtuJv4JpNExWA5SJVS",
      "authorship_tag": "ABX9TyPw9avCLFe4z5NMh4X4T1z3",
      "include_colab_link": true
    },
    "kernelspec": {
      "name": "python3",
      "display_name": "Python 3"
    },
    "language_info": {
      "name": "python"
    }
  },
  "cells": [
    {
      "cell_type": "markdown",
      "metadata": {
        "id": "view-in-github",
        "colab_type": "text"
      },
      "source": [
        "<a href=\"https://colab.research.google.com/github/Renshui-MC/MyPython/blob/main/Python_Inheritance.ipynb\" target=\"_parent\"><img src=\"https://colab.research.google.com/assets/colab-badge.svg\" alt=\"Open In Colab\"/></a>"
      ]
    },
    {
      "cell_type": "markdown",
      "source": [
        "# Classes and Object-Object-Oriented Programming - 3\n",
        "\n",
        "Like `C++` the original class is called a **base/parent** class and the new class is called a **derived/child class**. A new derived class inherits all attributes and methods defined by its base classes. However, a new derived class can **modify** the existing attributes of its base class and add **methods/attriburtes** of its own. \n",
        "\n",
        "<br/>\n",
        "\n",
        "If there is no specified **base class**, a class implicitly inherits `object`. This `object` is a **root** of **ALL Python objects**, and it provides the default implementation of some common methods such as `__str__()` and `__repr__()` with underscores. **Simply it means for a given class, it has the object/instance that can access to all default implementations of python methods, which are the special methods characterized by attaching to underscores**.  \n",
        "\n",
        "<br/>\n",
        "\n",
        "**One use** of inheritance is to extend an existing class with new methods. "
      ],
      "metadata": {
        "id": "OH-8aXc8Vmnx"
      }
    },
    {
      "cell_type": "code",
      "source": [
        "class Account:\n",
        "  def __init__(self, owner, balance):\n",
        "    self.owner = owner\n",
        "    self.balance = balance\n",
        "    print('Hello, my name is', self.owner, 'and the balance is ', self.balance)\n",
        "\n",
        "  def __repr__(self):\n",
        "    return f'Account({self.owner}, {self.balance})'\n",
        "\n",
        "  def deposit(self, amount):\n",
        "    self.balance += amount\n",
        "    print('Owner is ',self.owner, ' and the amount after deposit is ', self.balance)\n",
        "\n",
        "  def withdraw(self, amount):\n",
        "    self.balance -= amount\n",
        "    print('Owner is ', self.owner, ' and the amount after withdraw is ', self.balance)\n",
        "\n",
        "  def inquiry(self):\n",
        "    return print('The net = ', self.balance)\n",
        "\n",
        "#Example one\n",
        "class MyAcount(Account):\n",
        "  def panic(self):\n",
        "    self.withdraw(self.balance)\n",
        "\n",
        "\n",
        "a = MyAcount('Yangyang',100.0)#Intantiate the subclass and pass the same \n",
        "                                 #arguments as needed by the base class\n",
        "a.withdraw(23.0)#the child class is the base class just like C++\n",
        "a.panic()\n",
        "\n",
        "  "
      ],
      "metadata": {
        "colab": {
          "base_uri": "https://localhost:8080/"
        },
        "id": "PsU-FehjW5cD",
        "outputId": "ac4ac49a-5da9-45d4-94e8-2b363a0014e4"
      },
      "execution_count": null,
      "outputs": [
        {
          "output_type": "stream",
          "name": "stdout",
          "text": [
            "Hello, my name is Yangyang and the balance is  100.0\n",
            "Owner is  Yangyang  and the amount after withdraw is  77.0\n",
            "Owner is  Yangyang  and the amount after withdraw is  0.0\n"
          ]
        }
      ]
    },
    {
      "cell_type": "markdown",
      "source": [
        "The above example extends the `withdraw` method by defining a new `panic` method. Note that it extends `withdraw` by defining a new function called `panic()` rather than changing the same withdraw function. There is one functionality in C++ that allows overriding of an exisiting function, called **virtual**.  "
      ],
      "metadata": {
        "id": "Wpnuv_nMd6G7"
      }
    },
    {
      "cell_type": "code",
      "source": [
        "class Account:\n",
        "  def __init__(self, owner, balance):\n",
        "    self.owner = owner\n",
        "    self.balance = balance\n",
        "    print('Hello, my name is', self.owner, 'and the balance is ', self.balance)\n",
        "\n",
        "  def __repr__(self):\n",
        "    return f'Account({self.owner}, {self.balance})'\n",
        "\n",
        "  def deposit(self, amount):\n",
        "    self.balance += amount\n",
        "    print('Owner is ',self.owner, ' and the amount after deposit is ', self.balance)\n",
        "\n",
        "  def withdraw(self, amount):\n",
        "    self.balance -= amount\n",
        "    print('Owner is ', self.owner, ' and the amount after withdraw is ', self.balance)\n",
        "\n",
        "  def inquiry(self):\n",
        "    return print('The net = ', self.balance)\n",
        "\n",
        "#Example two\n",
        "import random \n",
        "\n",
        "class EvilAccount(Account):\n",
        "  def inquiry(self):\n",
        "    if random.randint(0,1) == 1:\n",
        "        \n",
        "       return print('self.balance = ', self.balance, \\\n",
        "                    'The net from inheritance is self.balance * 1.1 = ',\\\n",
        "                    self.balance * 1.10)\n",
        "    else:\n",
        "       return print('sef.balance = ', self.balance, \\\n",
        "                    'The net from inheritance = ', self.balance)\n",
        "\n",
        "\n",
        "a = EvilAccount('Minghan', 1000.0)#initialize the parent class\n",
        "a.deposit(10.0)#call the deposit() method defined in its parent class.\n",
        "available = a.inquiry() #call the newly defined inquiry() method in the derived class\n",
        "\n",
        "\n"
      ],
      "metadata": {
        "colab": {
          "base_uri": "https://localhost:8080/"
        },
        "id": "OliBMhio1Ujm",
        "outputId": "42b63692-65d7-42e1-fc80-cf306525a85b"
      },
      "execution_count": null,
      "outputs": [
        {
          "output_type": "stream",
          "name": "stdout",
          "text": [
            "Hello, my name is Guido and the balance is  1000.0\n",
            "Owner is  Guido  and the amount after deposit is  1010.0\n",
            "self.balance =  1010.0 The net from inheritance self.balance * 1.1 =  1111.0\n"
          ]
        }
      ]
    },
    {
      "cell_type": "markdown",
      "source": [
        "In the above example, `EvilAccount` is identical to `Account` except for the redefined `inquiry()` method.\n",
        "\n",
        "<br/>\n",
        "\n",
        "Note that `EvilAccount('Guido', 1000)` passes variables to its parent class and initializes the attributes in the parent class. \n",
        "\n",
        "`a` is the object that accesses the `deposit()` method in the parent class.\n",
        "\n",
        "However, `a.inquiry()` accesses the `inquiry()` defined in the derived class.\n",
        "\n",
        "**The rule is the object will alway access the methods defined in the child/derived classes first unless intentionally notifed. See the following example from which the method defined in the parent class is accessed first.**"
      ],
      "metadata": {
        "id": "A9KmtCPkJrvx"
      }
    },
    {
      "cell_type": "code",
      "source": [
        "class Account:\n",
        "  def __init__(self, owner, balance):\n",
        "    self.owner = owner\n",
        "    self.balance = balance\n",
        "    print('Hello, my name is', self.owner, 'and the balance is ', self.balance)\n",
        "\n",
        "  def __repr__(self):\n",
        "    return f'Account({self.owner}, {self.balance})'\n",
        "\n",
        "  def deposit(self, amount):\n",
        "    self.balance += amount\n",
        "    print('Owner is ',self.owner, ' and the amount after deposit is ', self.balance)\n",
        "\n",
        "  def withdraw(self, amount):\n",
        "    self.balance -= amount\n",
        "    print('Owner is ', self.owner, ' and the amount after withdraw is ', self.balance)\n",
        "\n",
        "  def inquiry(self):\n",
        "    return self.balance\n",
        "\n",
        "#Example two\n",
        "import random \n",
        "\n",
        "class EvilAccount(Account):\n",
        "    def __init__(self, owner, balance, factor):#a new version of __init__()\n",
        "        super().__init__(owner, balance)#must initialize the old version of __init()__ first\n",
        "        self.factor = factor #initialize the new attribute\n",
        "\n",
        "    def inquiry(self):\n",
        "         if random.randint(0,1) == 1:\n",
        "            store = self.factor * super().inquiry()\n",
        "            \n",
        "            return print('The factor is ', self.factor, ' and the balance is = ',\\\n",
        "                         self.factor * super().inquiry())\n",
        "         else:\n",
        "            return print('The balance is = ', super().inquiry())\n",
        "\n",
        "a = EvilAccount('Baozi',100, 2.0)\n",
        "a.deposit(100.0)\n",
        "a.withdraw(20)\n",
        "a.inquiry()#it calls inquiry() and after execution and get out of the scope it returns none. \n",
        "\n"
      ],
      "metadata": {
        "colab": {
          "base_uri": "https://localhost:8080/"
        },
        "id": "umy1GiWeMtP2",
        "outputId": "02ee29ed-b93e-4f8d-adad-76d37102e06e"
      },
      "execution_count": null,
      "outputs": [
        {
          "output_type": "stream",
          "name": "stdout",
          "text": [
            "Hello, my name is Baozi and the balance is  100\n",
            "Owner is  Baozi  and the amount after deposit is  200.0\n",
            "Owner is  Baozi  and the amount after withdraw is  180.0\n",
            "The factor is  2.0  and the balance is =  360.0\n"
          ]
        }
      ]
    },
    {
      "cell_type": "markdown",
      "source": [
        "In the above exaple, when dealing with the existing `__init()__` method, you must initialize the exisiting/old `__init()__` in the parent class. Otherwise, your modified/new version of the `__init()__` method is half-initialized and everything will break!\n",
        "\n",
        "The redefined `inquiry()` method in the derived class needs to access the `inquiry()` defined in the parent class, and hence, `super().inquiry()` is used."
      ],
      "metadata": {
        "id": "y4YplpONY_M7"
      }
    },
    {
      "cell_type": "markdown",
      "source": [
        "For **debugging**, use `__repr__(self)` function returns the object representation in string format. Also, Python supports **multiple inheritance** by listing more than one class as parent. See the example below: "
      ],
      "metadata": {
        "id": "WMRwT69Yhi6-"
      }
    },
    {
      "cell_type": "code",
      "source": [
        "class Food:\n",
        "  pass\n",
        "\n",
        "class SandWich:\n",
        "  pass\n",
        "\n",
        "class Sandwitch(Food):\n",
        "  pass\n",
        "class RoastBeef(Food):\n",
        "  pass\n",
        "class GrilledCheese(SandWich):\n",
        "  pass\n",
        "class Taco(Food):\n",
        "  pass\n",
        "class HotDog(SandWich, Taco):#multiple inheritance\n",
        "  pass\n"
      ],
      "metadata": {
        "id": "pDkFrhRX6wgX"
      },
      "execution_count": null,
      "outputs": []
    }
  ]
}