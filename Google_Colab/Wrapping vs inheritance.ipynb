{
 "cells": [
  {
   "cell_type": "markdown",
   "id": "7d0e0c87",
   "metadata": {},
   "source": [
    "# Wrapping vs Inheritance"
   ]
  },
  {
   "cell_type": "markdown",
   "id": "aa8e8058",
   "metadata": {},
   "source": [
    "In **object-oriented programming**, a \"wrapper\" typically refers to a design pattern where one class (the wrapper class) encapsulates and extends the functionality of another class (the wrapped class), **without necessarily inheriting from it**. While inheritance is one way to extend functionality, wrapping is a more flexible approach that allows you to modify or add behavior to an existing object without altering its structure."
   ]
  },
  {
   "cell_type": "markdown",
   "id": "3c09bfa7",
   "metadata": {},
   "source": [
    "**Wrapping Example**\n",
    "\n",
    "+ Independence: A wrapper class (implemented through composition) **encapsulates another class or object** but remains independent of its specific implementation details.\n",
    "\n",
    "+ Extension: It extends the functionality of the wrapped class by adding new behaviors or modifying existing ones through delegation and additional methods.\n",
    "\n",
    "+ Flexibility: Changes in the wrapped class do not necessarily affect the wrapper class, allowing for more flexible and loosely coupled designs.\n",
    "\n",
    "+ Code Reuse: Promotes code reuse by combining functionalities from different classes through composition.\n",
    "\n",
    "In the following example, `TimestampedLogger` wraps around `Logger`, adding `timestamp` functionality without inheriting from Logger. This composition allows for independent extension of behavior.\n",
    "\n",
    "*Note that you still need to declare and define the original Logger class for the wrapper (`TimestampedLogger`) to function. While the wrapper class (`TimestampedLogger`) is independent in terms of not inheriting from Logger, it still relies on an instance of Logger to provide its core functionality. The independence lies in the fact that the wrapper does not inherit directly from Logger but rather uses composition to include an instance of it.*"
   ]
  },
  {
   "cell_type": "code",
   "execution_count": 16,
   "id": "6773ca6c",
   "metadata": {},
   "outputs": [
    {
     "name": "stdout",
     "output_type": "stream",
     "text": [
      "Logging: [2024-07-10 21:23:36] Hello, world!\n"
     ]
    }
   ],
   "source": [
    "class Logger:\n",
    "    def log(self, message):\n",
    "        print(f\"Logging: {message}\")\n",
    "\n",
    "class TimestampedLogger:\n",
    "    def __init__(self, logger):\n",
    "        self.logger = logger\n",
    "    \n",
    "    def log(self, message):\n",
    "        import datetime\n",
    "        timestamp = datetime.datetime.now().strftime('%Y-%m-%d %H:%M:%S')\n",
    "        self.logger.log(f\"[{timestamp}] {message}\")\n",
    "\n",
    "# Usage example\n",
    "logger = Logger()\n",
    "timestamped_logger = TimestampedLogger(logger)\n",
    "timestamped_logger.log(\"Hello, world!\")\n"
   ]
  },
  {
   "cell_type": "markdown",
   "id": "77935a0f",
   "metadata": {},
   "source": [
    "**Inheritance**\n",
    "+ Dependency: Inheritance establishes a relationship where a subclass (child) inherits behaviors and properties from a superclass (parent).\n",
    "\n",
    "+ Base Class Features: The subclass relies on the implementation of the parent class for its core functionalities, which can constrain design changes.\n",
    "\n",
    "+ Subclass Modification: **Subclasses can override or extend methods from the superclass, but changes in the superclass can affect all subclasses.**\n",
    "\n",
    "+ Tight Coupling: Often results in tighter coupling between classes, as changes in the parent class may impact the behavior of subclasses.\n",
    "\n",
    "+ use `super().log` instead\n",
    "\n",
    "+ `log` is overridden\n",
    "\n",
    "Here, `TimestampedLogger` inherits from `Logger`, overriding the `log` method to add `timestamp` functionality. Changes to Logger may affect `TimestampedLogger`, illustrating dependency."
   ]
  },
  {
   "cell_type": "code",
   "execution_count": 13,
   "id": "0604f663",
   "metadata": {},
   "outputs": [],
   "source": [
    "class Logger:\n",
    "    def __init__(self, filename):\n",
    "        self.filename = filename\n",
    "    \n",
    "    def log(self, message):\n",
    "        with open(self.filename, 'a') as f:\n",
    "            f.write(f\"Logging: {message}\\n\")\n",
    "    \n",
    "    def clear_log(self):\n",
    "        with open(self.filename, 'w') as f:\n",
    "            f.write('')\n",
    "\n",
    "class TimestampedLogger(Logger):\n",
    "    def log(self, message):\n",
    "        import datetime\n",
    "        timestamp = datetime.datetime.now().strftime('%Y-%m-%d %H:%M:%S')\n",
    "        super().log(f\"[{timestamp}] {message}\")\n",
    "\n",
    "# Usage example\n",
    "logger = Logger('log.txt')\n",
    "logger.log(\"This is a log message.\")\n",
    "logger.clear_log() #if commented out then you will have logging message printed into the log file\n",
    "\n",
    "timestamped_logger = TimestampedLogger('log.txt')\n",
    "timestamped_logger.log(\"Hello, world!\")"
   ]
  }
 ],
 "metadata": {
  "kernelspec": {
   "display_name": "Python 3 (ipykernel)",
   "language": "python",
   "name": "python3"
  },
  "language_info": {
   "codemirror_mode": {
    "name": "ipython",
    "version": 3
   },
   "file_extension": ".py",
   "mimetype": "text/x-python",
   "name": "python",
   "nbconvert_exporter": "python",
   "pygments_lexer": "ipython3",
   "version": "3.12.3"
  },
  "toc": {
   "base_numbering": 1,
   "nav_menu": {},
   "number_sections": true,
   "sideBar": true,
   "skip_h1_title": false,
   "title_cell": "Table of Contents",
   "title_sidebar": "Contents",
   "toc_cell": false,
   "toc_position": {},
   "toc_section_display": true,
   "toc_window_display": false
  }
 },
 "nbformat": 4,
 "nbformat_minor": 5
}
