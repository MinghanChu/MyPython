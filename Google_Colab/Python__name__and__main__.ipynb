{
  "nbformat": 4,
  "nbformat_minor": 0,
  "metadata": {
    "colab": {
      "provenance": [],
      "authorship_tag": "ABX9TyOIq4X7hP4wZme56fR4Zxf7",
      "include_colab_link": true
    },
    "kernelspec": {
      "name": "python3",
      "display_name": "Python 3"
    },
    "language_info": {
      "name": "python"
    }
  },
  "cells": [
    {
      "cell_type": "markdown",
      "metadata": {
        "id": "view-in-github",
        "colab_type": "text"
      },
      "source": [
        "<a href=\"https://colab.research.google.com/github/Renshui-MC/MyPython/blob/main/Python__name__and__main__.ipynb\" target=\"_parent\"><img src=\"https://colab.research.google.com/assets/colab-badge.svg\" alt=\"Open In Colab\"/></a>"
      ]
    },
    {
      "cell_type": "markdown",
      "source": [
        "**Special/magic variables in Python**\n",
        "\n",
        "Before python runs a code, it sets a few special variables. `__name__` is one of those special variables. \\\\\n",
        "\n",
        "When a file is imported, python will set the `__name__` **variable to the name of the imported file**. \\\\\n",
        "\n",
        "Whenever you import a file, python goes into the file and runs the code there. ***This resembles the H files in C++, which basically copies and pastes everything in the H files in the current .cpp file.*** \\\\\n",
        "\n",
        "**Importantly, what `__name__=='main'` does is to check if the current file is run DIRECTLY by python or it is IMPORTED. Check this out in Example.py.** This basically tells you where the **entry point** is. \\\\\n",
        "\n",
        "This is helpful when we only want the code run directly or only want the import run."
      ],
      "metadata": {
        "id": "yge2WBZwHHoI"
      }
    },
    {
      "cell_type": "code",
      "source": [
        "!python first_module.py"
      ],
      "metadata": {
        "colab": {
          "base_uri": "https://localhost:8080/"
        },
        "id": "PxxdrV5iGxM2",
        "outputId": "51e56dc3-eae4-44e4-af16-c1384eadc048"
      },
      "execution_count": null,
      "outputs": [
        {
          "output_type": "stream",
          "name": "stdout",
          "text": [
            "python3: can't open file '/content/first_module.py': [Errno 2] No such file or directory\n"
          ]
        }
      ]
    },
    {
      "cell_type": "markdown",
      "source": [
        "The name is `__main__` meaning the file is run directly."
      ],
      "metadata": {
        "id": "J8hdDbJFOiXI"
      }
    },
    {
      "cell_type": "code",
      "source": [
        "!python second_module.py"
      ],
      "metadata": {
        "colab": {
          "base_uri": "https://localhost:8080/"
        },
        "id": "PjT1aAWVJqzu",
        "outputId": "5491caea-c609-4eec-8d5c-25adaf4e6784"
      },
      "execution_count": null,
      "outputs": [
        {
          "output_type": "stream",
          "name": "stdout",
          "text": [
            "First Module's Name: first_module\n",
            "Second Module's Name: __main__\n"
          ]
        }
      ]
    },
    {
      "cell_type": "markdown",
      "source": [
        "Run `second_module.py` and know the file name of the imported `first_module.py` is assigned to the special `__name__` variable."
      ],
      "metadata": {
        "id": "CKYWhib3N4CS"
      }
    },
    {
      "cell_type": "code",
      "source": [
        "!python Example_direct.py"
      ],
      "metadata": {
        "colab": {
          "base_uri": "https://localhost:8080/"
        },
        "id": "ne4oBcdFLfe7",
        "outputId": "5005a866-9a4b-4774-933b-c6c5e23a9c8e"
      },
      "execution_count": null,
      "outputs": [
        {
          "output_type": "stream",
          "name": "stdout",
          "text": [
            "I am on the basement floor of the library: __main__\n"
          ]
        }
      ]
    },
    {
      "cell_type": "markdown",
      "source": [
        "The above example shows the file is run directly and the `__name__` variable is `__main__`."
      ],
      "metadata": {
        "id": "jdqYJxBVNz1l"
      }
    },
    {
      "cell_type": "code",
      "source": [
        "!python Example_Import.py"
      ],
      "metadata": {
        "colab": {
          "base_uri": "https://localhost:8080/"
        },
        "id": "kSjoIJXzSP7f",
        "outputId": "792f0db4-936d-45f5-f9da-591a3bec3223"
      },
      "execution_count": null,
      "outputs": [
        {
          "output_type": "stream",
          "name": "stdout",
          "text": [
            "import is run\n",
            "Run directly: Example_Import_Supplement\n",
            "I am on the basement floor of the library: __main__\n"
          ]
        }
      ]
    },
    {
      "cell_type": "markdown",
      "source": [
        "Note that the above example indicates that the import is run. This helps check if the import is run or the code is run directly. Note that the `main()` function should always be put outside of the conditional statement. The reason is shown in the above example: you can still run the `main()` function through `.` operator. Otherwise, it fails the if statement and you will not have the `main()` run eventually.\n"
      ],
      "metadata": {
        "id": "fDgP6VHUUoC3"
      }
    }
  ]
}