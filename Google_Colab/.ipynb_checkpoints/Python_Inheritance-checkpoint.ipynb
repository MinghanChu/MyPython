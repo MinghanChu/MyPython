{
 "cells": [
  {
   "cell_type": "markdown",
   "metadata": {
    "colab_type": "text",
    "id": "view-in-github"
   },
   "source": [
    "<a href=\"https://colab.research.google.com/github/Renshui-MC/MyPython/blob/main/Python_Inheritance.ipynb\" target=\"_parent\"><img src=\"https://colab.research.google.com/assets/colab-badge.svg\" alt=\"Open In Colab\"/></a>"
   ]
  },
  {
   "cell_type": "markdown",
   "metadata": {
    "id": "OH-8aXc8Vmnx"
   },
   "source": [
    "# Classes and Object-Oriented Programming - 3\n",
    "\n",
    "Like `C++` the original class is called a **base/parent** class and the new class is called a **derived/child class**. A new derived class inherits all attributes and methods defined by its base classes. However, a new derived class can **modify** the existing attributes of its base class and add **methods/attriburtes** of its own. \n",
    "\n",
    "<br/>\n",
    "\n",
    "If there is no specified **base class**, a class implicitly inherits `object`. This `object` is a **root** of **ALL Python objects**, and it provides the default implementation of some common methods such as `__str__()` and `__repr__()` with underscores. **Simply it means for a given class, it has the object/instance that can access to all default implementations of python methods, which are the special methods characterized by attaching to underscores**.  \n",
    "\n",
    "<br/>\n",
    "\n",
    "**One use** of inheritance is to extend an existing class with new methods. "
   ]
  },
  {
   "cell_type": "code",
   "execution_count": null,
   "metadata": {
    "colab": {
     "base_uri": "https://localhost:8080/"
    },
    "id": "PsU-FehjW5cD",
    "outputId": "ac4ac49a-5da9-45d4-94e8-2b363a0014e4"
   },
   "outputs": [
    {
     "name": "stdout",
     "output_type": "stream",
     "text": [
      "Hello, my name is Yangyang and the balance is  100.0\n",
      "Owner is  Yangyang  and the amount after withdraw is  77.0\n",
      "Owner is  Yangyang  and the amount after withdraw is  0.0\n"
     ]
    }
   ],
   "source": [
    "class Account:\n",
    "  def __init__(self, owner, balance):\n",
    "    self.owner = owner\n",
    "    self.balance = balance\n",
    "    print('Hello, my name is', self.owner, 'and the balance is ', self.balance)\n",
    "\n",
    "  def __repr__(self):\n",
    "    return f'Account({self.owner}, {self.balance})'\n",
    "\n",
    "  def deposit(self, amount):\n",
    "    self.balance += amount\n",
    "    print('Owner is ',self.owner, ' and the amount after deposit is ', self.balance)\n",
    "\n",
    "  def withdraw(self, amount):\n",
    "    self.balance -= amount\n",
    "    print('Owner is ', self.owner, ' and the amount after withdraw is ', self.balance)\n",
    "\n",
    "  def inquiry(self):\n",
    "    return print('The net = ', self.balance)\n",
    "\n",
    "#Example one\n",
    "class MyAcount(Account):\n",
    "  def panic(self):\n",
    "    self.withdraw(self.balance)\n",
    "\n",
    "\n",
    "a = MyAcount('Yangyang',100.0)#Intantiate the subclass and pass the same \n",
    "                                 #arguments as needed by the base class\n",
    "a.withdraw(23.0)#the child class is the base class just like C++\n",
    "a.panic()\n",
    "\n",
    "  "
   ]
  },
  {
   "cell_type": "markdown",
   "metadata": {
    "id": "Wpnuv_nMd6G7"
   },
   "source": [
    "The above example extends the `withdraw` method by defining a new `panic` method. Note that it extends `withdraw` by defining a new function called `panic()` rather than changing the same withdraw function. There is one functionality in C++ that allows overriding of an exisiting function, called **virtual**.  "
   ]
  },
  {
   "cell_type": "code",
   "execution_count": 2,
   "metadata": {
    "colab": {
     "base_uri": "https://localhost:8080/"
    },
    "id": "OliBMhio1Ujm",
    "outputId": "3c93b695-4c8a-4d59-9185-d1b68b339e3d"
   },
   "outputs": [
    {
     "name": "stdout",
     "output_type": "stream",
     "text": [
      "Hello, my name is Minghan and the balance is  1000.0\n",
      "Owner is  Minghan  and the amount after deposit is  1010.0\n",
      "self.balance =  1010.0 The net from inheritance is self.balance * 1.1 =  1111.0\n"
     ]
    }
   ],
   "source": [
    "class Account:\n",
    "  def __init__(self, owner, balance):\n",
    "    self.owner = owner\n",
    "    self.balance = balance\n",
    "    print('Hello, my name is', self.owner, 'and the balance is ', self.balance)\n",
    "\n",
    "  def __repr__(self):\n",
    "    return f'Account({self.owner}, {self.balance})'\n",
    "\n",
    "  def deposit(self, amount):\n",
    "    self.balance += amount\n",
    "    print('Owner is ',self.owner, ' and the amount after deposit is ', self.balance)\n",
    "\n",
    "  def withdraw(self, amount):\n",
    "    self.balance -= amount\n",
    "    print('Owner is ', self.owner, ' and the amount after withdraw is ', self.balance)\n",
    "\n",
    "  def inquiry(self):\n",
    "    return print('The net = ', self.balance)\n",
    "\n",
    "#Example two\n",
    "import random \n",
    "\n",
    "class EvilAccount(Account):\n",
    "  def inquiry(self):\n",
    "    if random.randint(0,1) == 1:\n",
    "        \n",
    "       return print('self.balance = ', self.balance, \\\n",
    "                    'The net from inheritance is self.balance * 1.1 = ',\\\n",
    "                    self.balance * 1.10)\n",
    "    else:\n",
    "       return print('sef.balance = ', self.balance, \\\n",
    "                    'The net from inheritance = ', self.balance)\n",
    "\n",
    "\n",
    "a = EvilAccount('Minghan', 1000.0)#initialize the parent class\n",
    "a.deposit(10.0)#call the deposit() method defined in its parent class.\n",
    "available = a.inquiry() #call the newly defined inquiry() method in the derived class\n",
    "\n",
    "\n"
   ]
  },
  {
   "cell_type": "markdown",
   "metadata": {
    "id": "A9KmtCPkJrvx"
   },
   "source": [
    "In the above example, `EvilAccount` is identical to `Account` except for the redefined `inquiry()` method.\n",
    "\n",
    "<br/>\n",
    "\n",
    "Note that `EvilAccount('Guido', 1000)` passes variables to its parent class and initializes the attributes in the parent class. \n",
    "\n",
    "`a` is the object that accesses the `deposit()` method in the parent class.\n",
    "\n",
    "However, `a.inquiry()` accesses the `inquiry()` defined in the derived class.\n",
    "\n",
    "**The rule is the object will alway access the methods defined in the child/derived classes first unless intentionally notifed. See the following example from which the method defined in the parent class is accessed first.**\n",
    "\n",
    "+ use `super().` to access the methods defined in the parent class"
   ]
  },
  {
   "cell_type": "code",
   "execution_count": null,
   "metadata": {
    "colab": {
     "base_uri": "https://localhost:8080/"
    },
    "id": "umy1GiWeMtP2",
    "outputId": "02ee29ed-b93e-4f8d-adad-76d37102e06e"
   },
   "outputs": [
    {
     "name": "stdout",
     "output_type": "stream",
     "text": [
      "Hello, my name is Baozi and the balance is  100\n",
      "Owner is  Baozi  and the amount after deposit is  200.0\n",
      "Owner is  Baozi  and the amount after withdraw is  180.0\n",
      "The factor is  2.0  and the balance is =  360.0\n"
     ]
    }
   ],
   "source": [
    "class Account:\n",
    "  def __init__(self, owner, balance):\n",
    "    self.owner = owner\n",
    "    self.balance = balance\n",
    "    print('Hello, my name is', self.owner, 'and the balance is ', self.balance)\n",
    "\n",
    "  def __repr__(self):\n",
    "    return f'Account({self.owner}, {self.balance})'\n",
    "\n",
    "  def deposit(self, amount):\n",
    "    self.balance += amount\n",
    "    print('Owner is ',self.owner, ' and the amount after deposit is ', self.balance)\n",
    "\n",
    "  def withdraw(self, amount):\n",
    "    self.balance -= amount\n",
    "    print('Owner is ', self.owner, ' and the amount after withdraw is ', self.balance)\n",
    "\n",
    "  def inquiry(self):\n",
    "    return self.balance\n",
    "\n",
    "#Example two\n",
    "import random \n",
    "\n",
    "class EvilAccount(Account):\n",
    "    def __init__(self, owner, balance, factor):#a new version of __init__()\n",
    "        super().__init__(owner, balance)#must initialize the old version of __init()__ first\n",
    "        self.factor = factor #initialize the new attribute\n",
    "\n",
    "    def inquiry(self):\n",
    "         if random.randint(0,1) == 1:\n",
    "            store = self.factor * super().inquiry()\n",
    "            \n",
    "            return print('The factor is ', self.factor, ' and the balance is = ',\\\n",
    "                         self.factor * super().inquiry())\n",
    "         else:\n",
    "            return print('The balance is = ', super().inquiry())\n",
    "\n",
    "a = EvilAccount('Baozi',100, 2.0)\n",
    "a.deposit(100.0)\n",
    "a.withdraw(20)\n",
    "a.inquiry()#it calls inquiry() and after execution and get out of the scope it returns none. \n",
    "\n"
   ]
  },
  {
   "cell_type": "markdown",
   "metadata": {
    "id": "y4YplpONY_M7"
   },
   "source": [
    "In the above exaple, when dealing with the existing `__init()__` method, you must initialize the exisiting/old `__init()__` in the parent class. Otherwise, your modified/new version of the `__init()__` method is half-initialized and everything will break!\n",
    "\n",
    "The redefined `inquiry()` method in the derived class needs to access the `inquiry()` defined in the parent class, and hence, `super().inquiry()` is used."
   ]
  },
  {
   "cell_type": "markdown",
   "metadata": {
    "id": "WMRwT69Yhi6-"
   },
   "source": [
    "For **debugging**, use `__repr__(self)` function returns the object representation in string format. Also, Python supports **multiple inheritance** by listing more than one class as parent. See the example below: "
   ]
  },
  {
   "cell_type": "code",
   "execution_count": null,
   "metadata": {
    "id": "pDkFrhRX6wgX"
   },
   "outputs": [],
   "source": [
    "class Food:\n",
    "  pass\n",
    "\n",
    "class SandWich:\n",
    "  pass\n",
    "\n",
    "class Sandwitch(Food):\n",
    "  pass\n",
    "class RoastBeef(Food):\n",
    "  pass\n",
    "class GrilledCheese(SandWich):\n",
    "  pass\n",
    "class Taco(Food):\n",
    "  pass\n",
    "class HotDog(SandWich, Taco):#multiple inheritance\n",
    "  pass\n"
   ]
  }
 ],
 "metadata": {
  "colab": {
   "authorship_tag": "ABX9TyMBYaA6i2jm4WM8mo6dR3aR",
   "include_colab_link": true,
   "mount_file_id": "1PvzaFyISI_XN8_PtuJv4JpNExWA5SJVS",
   "provenance": []
  },
  "kernelspec": {
   "display_name": "Python 3 (ipykernel)",
   "language": "python",
   "name": "python3"
  },
  "language_info": {
   "codemirror_mode": {
    "name": "ipython",
    "version": 3
   },
   "file_extension": ".py",
   "mimetype": "text/x-python",
   "name": "python",
   "nbconvert_exporter": "python",
   "pygments_lexer": "ipython3",
   "version": "3.12.3"
  },
  "toc": {
   "base_numbering": 1,
   "nav_menu": {},
   "number_sections": true,
   "sideBar": true,
   "skip_h1_title": false,
   "title_cell": "Table of Contents",
   "title_sidebar": "Contents",
   "toc_cell": false,
   "toc_position": {},
   "toc_section_display": true,
   "toc_window_display": false
  }
 },
 "nbformat": 4,
 "nbformat_minor": 1
}
