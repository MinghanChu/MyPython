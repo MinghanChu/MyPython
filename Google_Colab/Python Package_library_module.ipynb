{
 "cells": [
  {
   "cell_type": "markdown",
   "id": "7aec59ed",
   "metadata": {},
   "source": [
    "# Understanding the scope of library Package and module in Python"
   ]
  },
  {
   "cell_type": "markdown",
   "id": "e66c6240",
   "metadata": {},
   "source": [
    "**Library**: A collection of modules, functions, and classes that provide specific functionality to be reused across different programs.\n",
    "**Module**: A single file (or files) containing Python code that can be imported and used in other Python scripts.\n",
    "**Package**: A collection of modules organized in directories that include a special `__init__.py` file.\n"
   ]
  },
  {
   "cell_type": "markdown",
   "id": "84ed4243",
   "metadata": {},
   "source": [
    "## Package is a structure within a library"
   ]
  },
  {
   "cell_type": "markdown",
   "id": "a4b6cc69",
   "metadata": {},
   "source": [
    "A package is typically a **directory** containing `__init__.py` file and other modules or sub-packages. Note that the `__init__.py` can be empty, but its presence indicates that the directory should be treated as a package.\n",
    "\n",
    "For example,\n",
    "\n",
    "```\n",
    "mypackage/\n",
    "    __init__.py\n",
    "    module1.py\n",
    "    module2.py\n",
    "    subpackage/\n",
    "        __init__.py\n",
    "        submodule1.py\n",
    "```\n",
    "\n",
    "`mypackage` is a package directory that consists of modules: `module1.py`, `module2.py`. It also consists of subpackage directory that contains a submodule `submodule1.py`.\n",
    "\n",
    "**Pakcage is a way to organize similar functionalities together in a structured manner.** A multi-module **library** may consist of several packages:\n",
    "\n",
    "```\n",
    "torchvision/\n",
    "    __init__.py\n",
    "    datasets/\n",
    "        __init__.py\n",
    "        cifar.py\n",
    "        mnist.py\n",
    "    models/\n",
    "        __init__.py\n",
    "        resnet.py\n",
    "        vgg.py\n",
    "    transforms/\n",
    "        __init__.py\n",
    "        functional.py\n",
    "```\n",
    "\n",
    "The benefits of using packages are:\n",
    "\n",
    "1. Easier to manage: packages help organize related modules into directories, making the codebase cleaner and easier to manage.\n",
    "\n",
    "2. Avoid conflicts between modules: Packages provide a namespace that helps avoid name conflicts between modules with similar names.\n",
    "    - a package in Python provides a namespace primarily through its `__init__.py` file. A namespace in Python is essentially a mapping from names (like variables, functions, and classes) to objects (their respective implementations). This mapping allows Python to uniquely identify and access these names within a specific context without conflicts. \n",
    "    - When we talk about a **package's namespace** in Python, we're referring to the collection of namespaces contributed by all the modules and sub-packages within that package. Each module or sub-package within the package defines its own namespace. This means:\n",
    "        1. **Namespace Per Module**: Each module (module.py) within a package (mypackage) has its own namespace. This namespace includes all the functions, classes, variables, and other objects defined within that module.\n",
    "        2. **Namespace Per Sub-Package**: Similarly, each sub-package (subpackage) within the main package (mypackage) also has its own namespace. This namespace includes all the modules and sub-packages defined within that sub-package.\n",
    "        3. **Combined Namespace**: When you import a package (import mypackage), you gain access to all the namespaces of its modules and sub-packages. This allows you to access functions, classes, and other objects defined within any module or sub-package of mypackage using dot notation (`mypackage.module.func()` or `mypackage.subpackage.submodule.func()`).\n",
    "\n",
    "3. Easier reuse of modules: By organizing code into packages, we can easily reuse modules across different projects.\n",
    "\n",
    "    - a clean and structured code can promote a straightforward reuse of packages in different projects without rewriting or duplicating code. \n"
   ]
  },
  {
   "cell_type": "markdown",
   "id": "c087931b",
   "metadata": {},
   "source": [
    "## Module \n",
    "\n",
    "Note that a module is "
   ]
  },
  {
   "cell_type": "code",
   "execution_count": 2,
   "id": "578b47b7",
   "metadata": {},
   "outputs": [
    {
     "ename": "ModuleNotFoundError",
     "evalue": "No module named 'torch'",
     "output_type": "error",
     "traceback": [
      "\u001b[0;31m---------------------------------------------------------------------------\u001b[0m",
      "\u001b[0;31mModuleNotFoundError\u001b[0m                       Traceback (most recent call last)",
      "Cell \u001b[0;32mIn[2], line 9\u001b[0m\n\u001b[1;32m      1\u001b[0m \u001b[38;5;66;03m# Let's see a real example in Pytorch\u001b[39;00m\n\u001b[1;32m      2\u001b[0m \u001b[38;5;66;03m# In the following example, torch is a library in python\u001b[39;00m\n\u001b[1;32m      3\u001b[0m \u001b[38;5;66;03m# utils is a package within the torch library\u001b[39;00m\n\u001b[0;32m   (...)\u001b[0m\n\u001b[1;32m      7\u001b[0m \u001b[38;5;66;03m# In this case, DataLoader is a module (DataLoader.py or similar) within the data sub-package of torch.utils, \u001b[39;00m\n\u001b[1;32m      8\u001b[0m \u001b[38;5;66;03m# responsible for loading batches of data efficiently during training and evaluation in machine learning tasks.\u001b[39;00m\n\u001b[0;32m----> 9\u001b[0m \u001b[38;5;28;01mfrom\u001b[39;00m \u001b[38;5;21;01mtorch\u001b[39;00m\u001b[38;5;21;01m.\u001b[39;00m\u001b[38;5;21;01mutils\u001b[39;00m\u001b[38;5;21;01m.\u001b[39;00m\u001b[38;5;21;01mdata\u001b[39;00m \u001b[38;5;28;01mimport\u001b[39;00m DataLoader\n",
      "\u001b[0;31mModuleNotFoundError\u001b[0m: No module named 'torch'"
     ]
    }
   ],
   "source": [
    "# Let's see a real example in Pytorch\n",
    "# In the following example, torch is a library in python\n",
    "# utils is a package within the torch library\n",
    "# data is a sub-package within the utils package in the torch library.\n",
    "# DataLoader is a class provided by torch.utils.data. \n",
    "# Classes are typically defined in modules (Python files) within packages.\n",
    "# In this case, DataLoader is a module (DataLoader.py or similar) within the data sub-package of torch.utils, \n",
    "# responsible for loading batches of data efficiently during training and evaluation in machine learning tasks.\n",
    "from torch.utils.data import DataLoader"
   ]
  },
  {
   "cell_type": "code",
   "execution_count": null,
   "id": "33701bda",
   "metadata": {},
   "outputs": [],
   "source": []
  }
 ],
 "metadata": {
  "kernelspec": {
   "display_name": "Python 3 (ipykernel)",
   "language": "python",
   "name": "python3"
  },
  "language_info": {
   "codemirror_mode": {
    "name": "ipython",
    "version": 3
   },
   "file_extension": ".py",
   "mimetype": "text/x-python",
   "name": "python",
   "nbconvert_exporter": "python",
   "pygments_lexer": "ipython3",
   "version": "3.12.3"
  },
  "toc": {
   "base_numbering": 1,
   "nav_menu": {},
   "number_sections": true,
   "sideBar": true,
   "skip_h1_title": false,
   "title_cell": "Table of Contents",
   "title_sidebar": "Contents",
   "toc_cell": false,
   "toc_position": {},
   "toc_section_display": true,
   "toc_window_display": false
  }
 },
 "nbformat": 4,
 "nbformat_minor": 5
}
