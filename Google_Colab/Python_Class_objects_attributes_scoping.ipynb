{
  "nbformat": 4,
  "nbformat_minor": 0,
  "metadata": {
    "colab": {
      "provenance": [],
      "authorship_tag": "ABX9TyPou3W6tf3NU/sACcC84gs1",
      "include_colab_link": true
    },
    "kernelspec": {
      "name": "python3",
      "display_name": "Python 3"
    },
    "language_info": {
      "name": "python"
    }
  },
  "cells": [
    {
      "cell_type": "markdown",
      "metadata": {
        "id": "view-in-github",
        "colab_type": "text"
      },
      "source": [
        "<a href=\"https://colab.research.google.com/github/Renshui-MC/MyPython/blob/main/Python_Class_objects_attributes_scoping.ipynb\" target=\"_parent\"><img src=\"https://colab.research.google.com/assets/colab-badge.svg\" alt=\"Open In Colab\"/></a>"
      ]
    },
    {
      "cell_type": "code",
      "source": [
        "22!python --version"
      ],
      "metadata": {
        "colab": {
          "base_uri": "https://localhost:8080/"
        },
        "id": "7Jhk_BIRypbt",
        "outputId": "a40c18f5-dd74-491d-fc60-bbb84d0387ca"
      },
      "execution_count": null,
      "outputs": [
        {
          "output_type": "stream",
          "name": "stdout",
          "text": [
            "Python 3.7.15\n"
          ]
        }
      ]
    },
    {
      "cell_type": "markdown",
      "source": [
        "# Classes and Object-Oriented Programming - 1\n",
        "\n",
        "- Classes are used to create new kinds of objects.\n",
        "\n",
        "- Like `C++`, `Python` has classes (a data type). A class contains **functions/methods**. To **invoke** these methods, you need to instantiate the ceated class to have an **instance/object** of its type. \\\\\n",
        "\n",
        "- You can add a new attribute outside of a class easily.\n",
        "\n",
        "- Once objects are created you can access these **attributes and methods** using `dot (.)` operator\n",
        "\n",
        "- Unlike `C++`, `Python` defines its scope by using the first argument **self** in a method declaration rather than `{}` as used in `C++`. **Interestingly, \"self\" acts as `this->` pointer in C++ referring to the current object.**"
      ],
      "metadata": {
        "id": "rc49UQWdFEsb"
      }
    },
    {
      "cell_type": "code",
      "source": [
        "class Account:\n",
        "  def __init__(self, owner, balance):\n",
        "    self.owner = owner\n",
        "    self.balance = balance\n",
        "    print('Hello, my name is', self.owner, 'and the balance is ', self.balance)\n",
        "\n",
        "  def __repr__(self):\n",
        "    return f'Account({self.owner}, {self.balance})'\n",
        "\n",
        "  def deposit(self, amount):\n",
        "    self.balance += amount\n",
        "    print('Owner is ',self.owner, ' and the amount after deposit is ', self.balance)\n",
        "\n",
        "  def withdraw(self, amount):\n",
        "    self.balance -= amount\n",
        "    print('Owner is ', self.owner, ' and the amount after withdraw is ', self.balance)\n",
        "\n",
        "  def inquiry(self):\n",
        "    return print('The net = ', self.balance)\n",
        "\n",
        "input = 'John'\n",
        "if input == 'John':\n",
        "  a = Account('John', 1000)#create one object/instance of the class type\n",
        "  a.deposit(10)\n",
        "  a.withdraw(20)\n",
        "  a.inquiry()\n",
        "  a.nickname = 'maomao' # add a new attribute here\n",
        "else:\n",
        "\n",
        "  b = Account('Aashwin', 2000)\n",
        "#print('Owner is ', a.owner)\n",
        "  b.deposit(10)\n",
        "  b.withdraw(10)\n",
        "  b.inquiry()\n",
        "\n",
        "\n",
        "\n",
        "\n",
        "c = Account('Baozi',2000) #create another object/instance of the class type\n",
        "\n",
        "a.nickname # access the attribute through dot operator\n",
        "\n",
        "#you can delete the the instance\n",
        "#del Account\n",
        "#print(Account('Baozi',2000))\n"
      ],
      "metadata": {
        "colab": {
          "base_uri": "https://localhost:8080/",
          "height": 125
        },
        "id": "fMe96GjSyr3r",
        "outputId": "13ee11a6-e0f1-42dd-cab2-9600c76747c5"
      },
      "execution_count": null,
      "outputs": [
        {
          "output_type": "stream",
          "name": "stdout",
          "text": [
            "Hello, my name is John and the balance is  1000\n",
            "Owner is  John  and the amount after deposit is  1010\n",
            "Owner is  John  and the amount after withdraw is  990\n",
            "The net =  990\n",
            "Hello, my name is Baozi and the balance is  2000\n"
          ]
        },
        {
          "output_type": "execute_result",
          "data": {
            "text/plain": [
              "'maomao'"
            ],
            "application/vnd.google.colaboratory.intrinsic+json": {
              "type": "string"
            }
          },
          "metadata": {},
          "execution_count": 13
        }
      ]
    },
    {
      "cell_type": "markdown",
      "source": [
        "In the above exmple, **\"self\"** is an **argument** that appears first in the declaration of a method. **Note that this is something that is different from C++. Such an argument is not required in C++, as long as the class is instantiated, you do NOT need to pass the object/instance to the methods inside this class. Passing an object to a method is only required when the function is defined outside of the class for C++.** While, Python does need this first argument to pass an object/instance.  \\\\\n",
        "\n",
        "## `__init__()` and `__repr__()` are **special** or **magic** methods because they are directly related to the cretaed objects\n",
        "`__init__` acts as a constructor used in C++. It initializes state when a new instance is created.\n",
        "\n",
        "`self.owner` and `self.balance` are two **attributes**"
      ],
      "metadata": {
        "id": "IHkWKizBHCCn"
      }
    },
    {
      "cell_type": "code",
      "source": [
        "vars(a)\n",
        "a.__init__(input,10)\n",
        "a.__repr__()"
      ],
      "metadata": {
        "colab": {
          "base_uri": "https://localhost:8080/",
          "height": 53
        },
        "id": "bCisQxR9RN-6",
        "outputId": "7337575e-9129-4bb0-8594-9bf052f5fa71"
      },
      "execution_count": null,
      "outputs": [
        {
          "output_type": "stream",
          "name": "stdout",
          "text": [
            "Hello, my name is John and the balance is  10\n"
          ]
        },
        {
          "output_type": "execute_result",
          "data": {
            "text/plain": [
              "'Account(John, 10)'"
            ],
            "application/vnd.google.colaboratory.intrinsic+json": {
              "type": "string"
            }
          },
          "metadata": {},
          "execution_count": 6
        }
      ]
    }
  ]
}